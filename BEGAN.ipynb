{
 "cells": [
  {
   "cell_type": "markdown",
   "metadata": {},
   "source": [
    "# Implementation of Boundary Equilibrium GANs\n",
    "Reference: https://arxiv.org/pdf/1703.10717"
   ]
  },
  {
   "cell_type": "code",
   "execution_count": null,
   "metadata": {},
   "outputs": [],
   "source": [
    "# Run the comment below only when using Google Colab\n",
    "# !pip install torch torchvision"
   ]
  },
  {
   "cell_type": "code",
   "execution_count": 1,
   "metadata": {},
   "outputs": [],
   "source": [
    "import torch\n",
    "import torchvision\n",
    "import torch.nn as nn"
   ]
  },
  {
   "cell_type": "code",
   "execution_count": 2,
   "metadata": {},
   "outputs": [],
   "source": [
    "from torch.utils.data import DataLoader\n",
    "from torch.utils.data.dataset import Dataset\n",
    "from torchvision import datasets\n",
    "from torchvision import transforms\n",
    "from torchvision.utils import save_image"
   ]
  },
  {
   "cell_type": "code",
   "execution_count": 3,
   "metadata": {},
   "outputs": [],
   "source": [
    "import numpy as np\n",
    "import datetime\n",
    "import os, sys"
   ]
  },
  {
   "cell_type": "code",
   "execution_count": 4,
   "metadata": {},
   "outputs": [],
   "source": [
    "import glob"
   ]
  },
  {
   "cell_type": "code",
   "execution_count": 5,
   "metadata": {},
   "outputs": [],
   "source": [
    "from PIL import Image"
   ]
  },
  {
   "cell_type": "code",
   "execution_count": 6,
   "metadata": {},
   "outputs": [],
   "source": [
    "import matplotlib.pyplot as plt\n",
    "from matplotlib.pyplot import imshow, imsave\n",
    "%matplotlib inline"
   ]
  },
  {
   "cell_type": "code",
   "execution_count": 7,
   "metadata": {},
   "outputs": [],
   "source": [
    "MODEL_NAME = 'BEGAN'\n",
    "DEVICE = torch.device(\"cuda\" if torch.cuda.is_available() else \"cpu\")\n",
    "DEVICE = \"cpu\""
   ]
  },
  {
   "cell_type": "code",
   "execution_count": 8,
   "metadata": {},
   "outputs": [],
   "source": [
    "IMAGE_SIZE = 248\n",
    "IMAGE_DIM = (248, 248, 1)"
   ]
  },
  {
   "cell_type": "code",
   "execution_count": 9,
   "metadata": {},
   "outputs": [],
   "source": [
    "def tensor2img(tensor):\n",
    "    img = (np.transpose(tensor.detach().cpu().numpy(), [1,2,0])+1)/2.\n",
    "    return img"
   ]
  },
  {
   "cell_type": "code",
   "execution_count": 10,
   "metadata": {},
   "outputs": [],
   "source": [
    "def get_sample_image(G, n_noise):\n",
    "    \"\"\"\n",
    "        save sample 25 images\n",
    "    \"\"\"\n",
    "    z = torch.randn(25, n_noise).to(DEVICE)\n",
    "    # print(z[0][0:100])\n",
    "    y_hat = G(z).view(25, IMAGE_SIZE, IMAGE_SIZE)\n",
    "    result = y_hat.cpu().data.numpy()\n",
    "    img = np.zeros([IMAGE_SIZE * 5, IMAGE_SIZE * 5])\n",
    "    for j in range(5):\n",
    "        # b = np.concatenate([np.where(x > 0.5, 1, 0) for x in result[j*5:(j+1)*5]], axis=-1)\n",
    "        b = np.concatenate([x for x in result[j*5:(j+1)*5]], axis=-1)\n",
    "        img[j*IMAGE_SIZE:(j+1)*IMAGE_SIZE] = b\n",
    "    return img"
   ]
  },
  {
   "cell_type": "code",
   "execution_count": 11,
   "metadata": {},
   "outputs": [
    {
     "data": {
      "text/plain": [
       "'\\n            n_rows = int(np.sqrt(n_samples))\\n            z = (torch.rand(size=[n_samples, n_noise])*2-1).to(DEVICE) # U[-1, 1]\\n            x_fake = G(z)\\n            x_fake = torch.cat([torch.cat([x_fake[n_rows*j+i] for i in range(n_rows)], dim=1) for j in range(n_rows)], dim=2)\\n            result = tensor2img(x_fake)\\n            return result\\n            '"
      ]
     },
     "execution_count": 11,
     "metadata": {},
     "output_type": "execute_result"
    }
   ],
   "source": [
    "#def get_sample_image(G, n_noise=100, n_samples=64):\n",
    "    \"\"\"\n",
    "        save sample 100 images\n",
    "    \"\"\"\n",
    "    \"\"\"\n",
    "    n_rows = int(np.sqrt(n_samples))\n",
    "    z = (torch.rand(size=[n_samples, n_noise])*2-1).to(DEVICE) # U[-1, 1]\n",
    "    x_fake = G(z)\n",
    "    x_fake = torch.cat([torch.cat([x_fake[n_rows*j+i] for i in range(n_rows)], dim=1) for j in range(n_rows)], dim=2)\n",
    "    result = tensor2img(x_fake)\n",
    "    return result\n",
    "    \"\"\""
   ]
  },
  {
   "cell_type": "code",
   "execution_count": 12,
   "metadata": {},
   "outputs": [],
   "source": [
    "class Encoder(nn.Module):\n",
    "    \"\"\"\n",
    "        Convolutional Encoder\n",
    "    \"\"\"\n",
    "    def __init__(self, in_channel=1, n_filters=128, hidden_dim=100):\n",
    "        super(Encoder, self).__init__()\n",
    "        assert IMAGE_DIM[0] % 2**2 == 0, 'Should be divided 4'\n",
    "        self.flatten_dim = IMAGE_DIM[0]//2**2\n",
    "        self.conv = nn.Sequential(\n",
    "            # conv0\n",
    "            nn.Conv2d(in_channel, n_filters, 3, stride=1, padding=1, bias=False),\n",
    "            nn.BatchNorm2d(n_filters),\n",
    "            nn.LeakyReLU(0.2),\n",
    "            # conv1\n",
    "            nn.Conv2d(n_filters, n_filters, 3, stride=1, padding=1, bias=False),\n",
    "            nn.BatchNorm2d(n_filters),\n",
    "            nn.LeakyReLU(0.2),\n",
    "            # conv2\n",
    "            nn.Conv2d(n_filters, n_filters*2, 3, stride=2, padding=1, bias=False),\n",
    "            nn.BatchNorm2d(n_filters*2),\n",
    "            nn.LeakyReLU(0.2),\n",
    "            # conv3\n",
    "            nn.Conv2d(n_filters*2, n_filters*2, 3, stride=1, padding=1, bias=False),\n",
    "            nn.BatchNorm2d(n_filters*2),\n",
    "            nn.LeakyReLU(0.2),\n",
    "            # conv4\n",
    "            nn.Conv2d(n_filters*2, n_filters*3, 3, stride=2, padding=1, bias=False),\n",
    "            nn.BatchNorm2d(n_filters*3),\n",
    "            nn.LeakyReLU(0.2),\n",
    "            # conv5\n",
    "            nn.Conv2d(n_filters*3, n_filters*3, 3, stride=1, padding=1, bias=False),\n",
    "            nn.BatchNorm2d(n_filters*3),\n",
    "            nn.LeakyReLU(0.2),\n",
    "            # conv6\n",
    "            nn.Conv2d(n_filters*3, n_filters*3, 3, stride=1, padding=1, bias=False),\n",
    "            nn.BatchNorm2d(n_filters*3),\n",
    "            nn.LeakyReLU(0.2),\n",
    "#             nn.AdaptiveAvgPool2d(1),\n",
    "        )\n",
    "        self.fc = nn.Linear(self.flatten_dim**2*n_filters*3, hidden_dim)\n",
    "    \n",
    "    def forward(self, x):\n",
    "        h = self.conv(x)\n",
    "        h = h.view(h.size(0), -1)\n",
    "        h = self.fc(h)\n",
    "        return h"
   ]
  },
  {
   "cell_type": "code",
   "execution_count": 13,
   "metadata": {},
   "outputs": [],
   "source": [
    "class Decoder(nn.Module):\n",
    "    \"\"\"\n",
    "        Convolutional Decoder\n",
    "    \"\"\"\n",
    "    def __init__(self, out_channel=1, n_filters=128, n_noise=100):\n",
    "        super(Decoder, self).__init__()\n",
    "        assert IMAGE_DIM[0] % 2**2 == 0, 'Should be divided 4'\n",
    "        self.flatten_dim = IMAGE_DIM[0]//2**2\n",
    "        self.fc = nn.Sequential(\n",
    "            nn.Linear(n_noise, self.flatten_dim**2*n_filters),\n",
    "        )\n",
    "        self.conv = nn.Sequential(\n",
    "            # conv1\n",
    "            nn.Conv2d(n_filters, n_filters, 3, stride=1, padding=1, bias=False),\n",
    "            nn.BatchNorm2d(n_filters),\n",
    "            nn.LeakyReLU(0.2),\n",
    "            # conv2\n",
    "            nn.Conv2d(n_filters, n_filters, 3, stride=1, padding=1, bias=False),\n",
    "            nn.BatchNorm2d(n_filters),\n",
    "            nn.LeakyReLU(0.2),\n",
    "            nn.Upsample(scale_factor=2, mode='nearest'),\n",
    "            # conv3\n",
    "            nn.Conv2d(n_filters, n_filters, 3, stride=1, padding=1, bias=False),\n",
    "            nn.BatchNorm2d(n_filters),\n",
    "            nn.LeakyReLU(0.2),\n",
    "            # conv4\n",
    "            nn.Conv2d(n_filters, n_filters, 3, stride=1, padding=1, bias=False),\n",
    "            nn.BatchNorm2d(n_filters),\n",
    "            nn.LeakyReLU(0.2),\n",
    "            nn.Upsample(scale_factor=2, mode='nearest'),\n",
    "            # conv5\n",
    "            nn.Conv2d(n_filters, n_filters, 3, stride=1, padding=1, bias=False),\n",
    "            nn.BatchNorm2d(n_filters),\n",
    "            nn.LeakyReLU(0.2),\n",
    "            # conv6\n",
    "            nn.Conv2d(n_filters, n_filters, 3, stride=1, padding=1, bias=False),\n",
    "            nn.BatchNorm2d(n_filters),\n",
    "            nn.LeakyReLU(0.2),\n",
    "            # conv6\n",
    "            nn.Conv2d(n_filters, out_channel, 3, stride=1, padding=1, bias=True),\n",
    "            nn.Tanh()\n",
    "        )\n",
    "    \n",
    "    def forward(self, h):\n",
    "        h = self.fc(h)\n",
    "        h = h.view(h.size(0), -1, self.flatten_dim, self.flatten_dim)\n",
    "        x = self.conv(h)\n",
    "        return x"
   ]
  },
  {
   "cell_type": "code",
   "execution_count": 14,
   "metadata": {},
   "outputs": [],
   "source": [
    "class Discriminator(nn.Module):\n",
    "    \"\"\"\n",
    "        Convolutional Discriminator\n",
    "    \"\"\"\n",
    "    def __init__(self, in_channel=1, n_filters=128, hidden_dim=64):\n",
    "        super(Discriminator, self).__init__()\n",
    "        self.encoder = Encoder(in_channel=in_channel, n_filters=n_filters, hidden_dim=hidden_dim)\n",
    "        self.decoder = Decoder(out_channel=in_channel, n_filters=n_filters, n_noise=hidden_dim)\n",
    "        \n",
    "    def forward(self, x):\n",
    "        h = self.encoder(x)\n",
    "        x_ = self.decoder(h)\n",
    "        return x_"
   ]
  },
  {
   "cell_type": "code",
   "execution_count": 15,
   "metadata": {},
   "outputs": [],
   "source": [
    "class Generator(nn.Module):\n",
    "    \"\"\"\n",
    "        Convolutional Generator\n",
    "    \"\"\"\n",
    "    def __init__(self, out_channel=1, n_filters=128, n_noise=64):\n",
    "        super(Generator, self).__init__()\n",
    "        self.decoder = Decoder(out_channel=out_channel, n_filters=n_filters, n_noise=n_noise)\n",
    "        \n",
    "    def forward(self, h):\n",
    "        x_ = self.decoder(h)\n",
    "        return x_"
   ]
  },
  {
   "cell_type": "code",
   "execution_count": 16,
   "metadata": {},
   "outputs": [],
   "source": [
    "transform = transforms.Compose([torchvision.transforms.Grayscale(num_output_channels=1),\n",
    "                                transforms.ToTensor(),\n",
    "                                # transforms.Normalize(mean=(0.5, 0.5, 0.5),\n",
    "                                transforms.Normalize(mean=(0.5),\n",
    "                                #std=(0.5, 0.5, 0.5))\n",
    "                                std=(0.5))\n",
    "                               ]\n",
    ")"
   ]
  },
  {
   "cell_type": "markdown",
   "metadata": {},
   "source": [
    "CelebA-aligned download: [link](http://mmlab.ie.cuhk.edu.hk/projects/CelebA.html)"
   ]
  },
  {
   "cell_type": "code",
   "execution_count": 17,
   "metadata": {},
   "outputs": [],
   "source": [
    "# dataset = datasets.ImageFolder(root='geo-images-square', transform=transform)"
   ]
  },
  {
   "cell_type": "code",
   "execution_count": 18,
   "metadata": {},
   "outputs": [],
   "source": [
    "batch_size = 5\n",
    "n_noise = 248"
   ]
  },
  {
   "cell_type": "code",
   "execution_count": 19,
   "metadata": {},
   "outputs": [],
   "source": [
    "# data_loader = DataLoader(dataset=dataset, batch_size=batch_size, shuffle=True, drop_last=True, num_workers=8, pin_memory=True)"
   ]
  },
  {
   "cell_type": "code",
   "execution_count": 20,
   "metadata": {},
   "outputs": [],
   "source": [
    "data_path = 'geo-images-square'\n",
    "dataset = datasets.ImageFolder(\n",
    "        root=data_path,\n",
    "        transform=transforms.Compose([\n",
    "            torchvision.transforms.Grayscale(num_output_channels=1),\n",
    "            torchvision.transforms.ToTensor(),\n",
    "            transforms.Normalize(mean=[0.5], std=[0.5])\n",
    "        ])  \n",
    "    )"
   ]
  },
  {
   "cell_type": "code",
   "execution_count": 21,
   "metadata": {},
   "outputs": [],
   "source": [
    "data_loader = DataLoader(\n",
    "        dataset=dataset,\n",
    "        batch_size=batch_size,\n",
    "        num_workers=0,\n",
    "        shuffle=True\n",
    "    )"
   ]
  },
  {
   "cell_type": "code",
   "execution_count": 22,
   "metadata": {
    "scrolled": false
   },
   "outputs": [],
   "source": [
    "D = Discriminator(in_channel=IMAGE_DIM[-1], hidden_dim=n_noise).to(DEVICE)\n",
    "G = Generator(out_channel=IMAGE_DIM[-1], n_noise=n_noise).to(DEVICE)"
   ]
  },
  {
   "cell_type": "code",
   "execution_count": 23,
   "metadata": {},
   "outputs": [],
   "source": [
    "D_opt = torch.optim.Adam(D.parameters(), lr=0.0002, betas=(0.5, 0.999))\n",
    "G_opt = torch.optim.Adam(G.parameters(), lr=0.0002, betas=(0.5, 0.999))"
   ]
  },
  {
   "cell_type": "code",
   "execution_count": 24,
   "metadata": {},
   "outputs": [],
   "source": [
    "# BEGAN causes mode collapse. it can be addressed by decaying lr\n",
    "D_scheduler = torch.optim.lr_scheduler.MultiStepLR(D_opt, milestones=[3, 10, 17], gamma=0.6)\n",
    "G_scheduler = torch.optim.lr_scheduler.MultiStepLR(G_opt, milestones=[3, 10, 17], gamma=0.6)"
   ]
  },
  {
   "cell_type": "code",
   "execution_count": 25,
   "metadata": {},
   "outputs": [],
   "source": [
    "criterion = nn.L1Loss()"
   ]
  },
  {
   "cell_type": "code",
   "execution_count": 26,
   "metadata": {},
   "outputs": [],
   "source": [
    "max_epoch = 20\n",
    "step = 0"
   ]
  },
  {
   "cell_type": "code",
   "execution_count": 27,
   "metadata": {},
   "outputs": [],
   "source": [
    "lr_k = 0.001\n",
    "gamma = 0.7\n",
    "k_t = 0\n",
    "log_term = 100"
   ]
  },
  {
   "cell_type": "code",
   "execution_count": 28,
   "metadata": {},
   "outputs": [
    {
     "data": {
      "text/plain": [
       "12"
      ]
     },
     "execution_count": 28,
     "metadata": {},
     "output_type": "execute_result"
    }
   ],
   "source": [
    "steps_per_epoch = len(data_loader.dataset) // batch_size\n",
    "steps_per_epoch"
   ]
  },
  {
   "cell_type": "code",
   "execution_count": 29,
   "metadata": {},
   "outputs": [],
   "source": [
    "if not os.path.exists('samples'):\n",
    "    os.makedirs('samples')\n",
    "    \n",
    "if not os.path.exists('ckpt'):\n",
    "    os.makedirs('ckpt')"
   ]
  },
  {
   "cell_type": "code",
   "execution_count": 30,
   "metadata": {},
   "outputs": [],
   "source": [
    "def save_checkpoint(state, file_name='checkpoint.pth.tar'):\n",
    "    torch.save(state, file_name)"
   ]
  },
  {
   "cell_type": "code",
   "execution_count": null,
   "metadata": {
    "scrolled": false
   },
   "outputs": [
    {
     "name": "stdout",
     "output_type": "stream",
     "text": [
      "Epoch: 0/20, Step: 0, D Loss: 0.9089, G Loss: 0.3586, k: 0.0003, M: 1.1865, lr: 0.0002000, Time:17:35:24\n"
     ]
    }
   ],
   "source": [
    "m_lst = []\n",
    "bestM = 1.\n",
    "for epoch in range(max_epoch):\n",
    "    for idx, (images, _) in enumerate(data_loader):\n",
    "        G.zero_grad()\n",
    "        # Training Discriminator\n",
    "        x = images.to(DEVICE)\n",
    "        x_outputs = D(x)\n",
    "        D_x_loss = criterion(x_outputs, x)\n",
    "\n",
    "        z = (torch.rand(size=[batch_size, n_noise])*2-1).to(DEVICE)\n",
    "        x_fake = G(z)\n",
    "        z_outputs = D(x_fake.detach())\n",
    "        D_z_loss = criterion(z_outputs, x_fake)\n",
    "        \n",
    "        D_loss = D_x_loss - k_t*D_z_loss\n",
    "        \n",
    "        D.zero_grad()\n",
    "        D_loss.backward()\n",
    "        D_opt.step()\n",
    "\n",
    "        # Training Generator\n",
    "        z = (torch.rand(size=[batch_size, n_noise])*2-1).to(DEVICE)\n",
    "        x_fake = G(z)\n",
    "        z_outputs = D(x_fake)\n",
    "        G_loss = criterion(x_fake, z_outputs)\n",
    "\n",
    "        G.zero_grad()\n",
    "        G_loss.backward()\n",
    "        G_opt.step()\n",
    "        \n",
    "        bal = (gamma*D_x_loss - G_loss).detach()\n",
    "        k_t = min(max(k_t + lr_k*bal, 0), 1)\n",
    "        M_global = D_x_loss.detach() + torch.abs(bal)\n",
    "        \n",
    "        if M_global.item() < bestM:\n",
    "            bestM = M_global.item()\n",
    "            save_checkpoint({'global_step': step,\n",
    "                 'D':D.state_dict(),\n",
    "                 'G':G.state_dict(),\n",
    "                 'd_optim': D_opt.state_dict(),\n",
    "                 'g_optim' : G_opt.state_dict()},\n",
    "                'ckpt/began{:06d}.pth.tar'.format(step))\n",
    "        \n",
    "        if step % log_term == 0:\n",
    "            m_lst.append(M_global)\n",
    "            dt = datetime.datetime.now().strftime('%H:%M:%S')\n",
    "            print('Epoch: {}/{}, Step: {}, D Loss: {:.4f}, G Loss: {:.4f}, k: {:.4f}, M: {:.4f}, lr: {:.7f}, Time:{}'.format(epoch, max_epoch, step, D_loss.item(), G_loss.item(), k_t, M_global.item(), G_scheduler.get_lr()[0], dt))\n",
    "            G.eval()\n",
    "            img = get_sample_image(G, n_noise)\n",
    "            imsave('samples/{}_step{:06d}.jpg'.format(MODEL_NAME, step), img, cmap='gray')\n",
    "            G.train()\n",
    "        \n",
    "        step += 1\n",
    "    D_scheduler.step()\n",
    "    G_scheduler.step()"
   ]
  },
  {
   "cell_type": "code",
   "execution_count": null,
   "metadata": {},
   "outputs": [],
   "source": [
    "save_checkpoint({'global_step': step,\n",
    "     'D':D.state_dict(),\n",
    "     'G':G.state_dict(),\n",
    "     'd_optim': D_opt.state_dict(),\n",
    "     'g_optim' : G_opt.state_dict()},\n",
    "    'ckpt/began{:06d}.pth.tar'.format(step))"
   ]
  },
  {
   "cell_type": "markdown",
   "metadata": {},
   "source": [
    "### Random Sample"
   ]
  },
  {
   "cell_type": "code",
   "execution_count": null,
   "metadata": {},
   "outputs": [],
   "source": [
    "G_path = sorted(glob.glob(os.path.join('ckpt', '*.pth.tar')))[-2]\n",
    "state = torch.load(G_path)\n",
    "G.load_state_dict(state['G'])"
   ]
  },
  {
   "cell_type": "code",
   "execution_count": null,
   "metadata": {},
   "outputs": [],
   "source": [
    "G.eval()\n",
    "None"
   ]
  },
  {
   "cell_type": "code",
   "execution_count": null,
   "metadata": {},
   "outputs": [],
   "source": [
    "img = get_sample_image(G, n_noise, n_samples=25)\n",
    "imshow(img)"
   ]
  },
  {
   "cell_type": "code",
   "execution_count": null,
   "metadata": {},
   "outputs": [],
   "source": [
    "# Fake Image\n",
    "idx = [3, 3]\n",
    "row, col = IMAGE_DIM[0]*idx[0], IMAGE_DIM[1]*idx[1]\n",
    "imshow(img[row:row+IMAGE_DIM[0], col:col+IMAGE_DIM[1], :])"
   ]
  },
  {
   "cell_type": "code",
   "execution_count": null,
   "metadata": {},
   "outputs": [],
   "source": [
    "# Real Image\n",
    "i = 14\n",
    "rimg = tensor2img(images[i])\n",
    "imshow(rimg)"
   ]
  },
  {
   "cell_type": "markdown",
   "metadata": {},
   "source": [
    "### Interpolation"
   ]
  },
  {
   "cell_type": "code",
   "execution_count": null,
   "metadata": {},
   "outputs": [],
   "source": [
    "def sample_noise(size=None):\n",
    "    z = np.random.random(size=size)*2-1\n",
    "    return z"
   ]
  },
  {
   "cell_type": "code",
   "execution_count": null,
   "metadata": {},
   "outputs": [],
   "source": [
    "z_a, z_b = sample_noise(n_noise), sample_noise(n_noise)\n",
    "zs = torch.tensor([np.linspace(z_a[i], z_b[i], num=10) for i in range(n_noise)], dtype=torch.float32).to(DEVICE)\n",
    "zs = torch.transpose(zs, 0, 1)\n",
    "zs.shape"
   ]
  },
  {
   "cell_type": "code",
   "execution_count": null,
   "metadata": {},
   "outputs": [],
   "source": [
    "imgs = G(zs).detach()\n",
    "imgs = torch.cat([imgs[i] for i in range(10)], dim=-1)\n",
    "imgs.shape"
   ]
  },
  {
   "cell_type": "code",
   "execution_count": null,
   "metadata": {},
   "outputs": [],
   "source": [
    "fig = plt.figure(figsize=(20, 3))\n",
    "imshow(tensor2img(imgs))"
   ]
  },
  {
   "cell_type": "code",
   "execution_count": null,
   "metadata": {},
   "outputs": [],
   "source": []
  },
  {
   "cell_type": "code",
   "execution_count": null,
   "metadata": {},
   "outputs": [],
   "source": []
  }
 ],
 "metadata": {
  "kernelspec": {
   "display_name": "Python 3",
   "language": "python",
   "name": "python3"
  },
  "language_info": {
   "codemirror_mode": {
    "name": "ipython",
    "version": 3
   },
   "file_extension": ".py",
   "mimetype": "text/x-python",
   "name": "python",
   "nbconvert_exporter": "python",
   "pygments_lexer": "ipython3",
   "version": "3.6.9"
  }
 },
 "nbformat": 4,
 "nbformat_minor": 2
}
